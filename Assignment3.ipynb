{
 "cells": [
  {
   "cell_type": "markdown",
   "metadata": {},
   "source": [
    "# Question 1"
   ]
  },
  {
   "cell_type": "code",
   "execution_count": 7,
   "metadata": {},
   "outputs": [
    {
     "name": "stdout",
     "output_type": "stream",
     "text": [
      "Pizza Spice\n",
      "Pizze Max\n",
      "Pizza Point\n"
     ]
    }
   ],
   "source": [
    "list = ['Pizza Spice','Pizze Max','Pizza Point']\n",
    "\n",
    "for pizza in list:\n",
    "    print(f'{pizza}')"
   ]
  },
  {
   "cell_type": "markdown",
   "metadata": {},
   "source": [
    "# Question 2"
   ]
  },
  {
   "cell_type": "code",
   "execution_count": 14,
   "metadata": {},
   "outputs": [
    {
     "name": "stdout",
     "output_type": "stream",
     "text": [
      "Pizza Spice\n",
      "Pizze Max\n",
      "Pizza Point\n",
      "I like pepperoni in Pizza Spice\n"
     ]
    }
   ],
   "source": [
    "list = ['Pizza Spice','Pizze Max','Pizza Point']\n",
    "\n",
    "for pizza in list:\n",
    "    print(f'{pizza}')\n",
    "    \n",
    "print(f'I like pepperoni in {list[0]}')"
   ]
  },
  {
   "cell_type": "markdown",
   "metadata": {},
   "source": [
    "# Question 3"
   ]
  },
  {
   "cell_type": "code",
   "execution_count": 15,
   "metadata": {},
   "outputs": [
    {
     "name": "stdout",
     "output_type": "stream",
     "text": [
      "1\n",
      "2\n",
      "3\n",
      "4\n",
      "5\n",
      "6\n",
      "7\n",
      "8\n",
      "9\n",
      "10\n",
      "11\n",
      "12\n",
      "13\n",
      "14\n",
      "15\n",
      "16\n",
      "17\n",
      "18\n",
      "19\n",
      "20\n"
     ]
    }
   ],
   "source": [
    "for num in range(1,21):\n",
    "    print(num)"
   ]
  },
  {
   "cell_type": "markdown",
   "metadata": {},
   "source": [
    "# Question 4"
   ]
  },
  {
   "cell_type": "code",
   "execution_count": 18,
   "metadata": {},
   "outputs": [
    {
     "name": "stdout",
     "output_type": "stream",
     "text": [
      "2\n",
      "4\n",
      "6\n",
      "8\n",
      "10\n",
      "12\n",
      "14\n",
      "16\n",
      "18\n",
      "20\n"
     ]
    }
   ],
   "source": [
    "for odd in range(2,21,2):\n",
    "    print(odd)"
   ]
  },
  {
   "cell_type": "markdown",
   "metadata": {},
   "source": [
    "# Question 5"
   ]
  },
  {
   "cell_type": "code",
   "execution_count": 36,
   "metadata": {},
   "outputs": [
    {
     "name": "stdout",
     "output_type": "stream",
     "text": [
      "3\n",
      "6\n",
      "9\n",
      "12\n",
      "15\n",
      "18\n",
      "21\n",
      "24\n",
      "27\n"
     ]
    }
   ],
   "source": [
    "list = []\n",
    "for three in range(3,30,3):\n",
    "    list.append(three)\n",
    "\n",
    "for num in list:\n",
    "    print(num)"
   ]
  },
  {
   "cell_type": "markdown",
   "metadata": {},
   "source": [
    "# Question 6"
   ]
  },
  {
   "cell_type": "code",
   "execution_count": 38,
   "metadata": {},
   "outputs": [
    {
     "name": "stdout",
     "output_type": "stream",
     "text": [
      "1\n",
      "8\n",
      "27\n",
      "64\n",
      "125\n",
      "216\n",
      "343\n",
      "512\n",
      "729\n",
      "1000\n"
     ]
    }
   ],
   "source": [
    "list = []\n",
    "\n",
    "for cube in range(1,11):\n",
    "    list.append(cube**3)\n",
    "    \n",
    "for num in list:\n",
    "    print(num)"
   ]
  },
  {
   "cell_type": "markdown",
   "metadata": {},
   "source": [
    "# Question 7"
   ]
  },
  {
   "cell_type": "code",
   "execution_count": 45,
   "metadata": {},
   "outputs": [
    {
     "name": "stdout",
     "output_type": "stream",
     "text": [
      "First Three items in the list are:  ['Biryani', 'Qurma', 'Seek Kabab']\n",
      "Three items from the middle of the list are: ['Fish', 'Kata Kat', 'Shorma']\n",
      "The last three items in the list are: ['Daal', 'Shami Kabab']\n"
     ]
    }
   ],
   "source": [
    "list = ['Biryani','Qurma','Seek Kabab','Fish','Kata Kat','Shorma','Karahi','Daal','Shami Kabab']\n",
    "\n",
    "print(\"First Three items in the list are: \",list[:3])\n",
    "print(\"Three items from the middle of the list are:\",list[3:6])\n",
    "print(\"The last three items in the list are:\",list[7:9])"
   ]
  },
  {
   "cell_type": "markdown",
   "metadata": {},
   "source": [
    "# Question 8"
   ]
  },
  {
   "cell_type": "code",
   "execution_count": 48,
   "metadata": {},
   "outputs": [
    {
     "name": "stdout",
     "output_type": "stream",
     "text": [
      "My Favoriate Foods are: \n",
      "\n",
      "Biryani\n",
      "Qurma\n",
      "Seek Kabab\n",
      "Fish\n",
      "Kata Kat\n",
      "Shorma\n",
      "Karahi\n",
      "Daal\n",
      "Shami Kabab\n",
      "\n",
      "\n",
      "\n",
      "My Friends Favoriate Foods are: \n",
      "\n",
      "Chicken Tikka\n",
      "Nuggets\n",
      "Burger\n",
      "Cutlets\n",
      "Fries\n",
      "Fried Fish\n",
      "Pizza\n",
      "Pasta\n"
     ]
    }
   ],
   "source": [
    "friend_list = ['Chicken Tikka','Nuggets','Burger','Cutlets','Fries','Fried Fish','Pizza','Pasta']\n",
    "\n",
    "print('My Favoriate Foods are: \\n')\n",
    "for items in list:\n",
    "    print(items)\n",
    "print('\\n\\n')\n",
    "\n",
    "print('My Friends Favoriate Foods are: \\n')\n",
    "for items in friend_list:\n",
    "    print(items)"
   ]
  },
  {
   "cell_type": "markdown",
   "metadata": {},
   "source": [
    "# Question 9"
   ]
  },
  {
   "cell_type": "code",
   "execution_count": 1,
   "metadata": {},
   "outputs": [
    {
     "name": "stdout",
     "output_type": "stream",
     "text": [
      "Enter Colour: Red\n",
      "The player just earned 10 points\n"
     ]
    }
   ],
   "source": [
    "Alien_color = input('Enter Colour: ')\n",
    "\n",
    "if Alien_color == 'red':\n",
    "    print('The player just earned 5 points for shooting the alien')\n",
    "elif Alien_color != 'green':\n",
    "    print('The player just earned 10 points')\n",
    "elif Alien_color != 'red' or Alien_color != 'green':\n",
    "    print('Alien is no more.....')"
   ]
  },
  {
   "cell_type": "markdown",
   "metadata": {},
   "source": [
    "# Question 10"
   ]
  },
  {
   "cell_type": "code",
   "execution_count": null,
   "metadata": {},
   "outputs": [],
   "source": [
    "age = int(input('Enter Age: '))\n",
    "\n",
    "if age < 2:\n",
    "    print('The person is a baby....')\n",
    "elif age == 2 or age < 4:\n",
    "    print('The person is a toddler....')\n",
    "elif age == 4 or age < 13:\n",
    "    print('The person is a kid....')\n",
    "elif age == 13 or age < 20:\n",
    "    print('The person is a teenager....')\n",
    "elif age == 20 or age < 65:\n",
    "    print('The person is an adult....')\n",
    "else:\n",
    "    print('The person is an elder')\n",
    "    "
   ]
  },
  {
   "cell_type": "markdown",
   "metadata": {},
   "source": [
    "# Question 11"
   ]
  },
  {
   "cell_type": "code",
   "execution_count": 2,
   "metadata": {},
   "outputs": [
    {
     "name": "stdout",
     "output_type": "stream",
     "text": [
      "Amir User Name is Already Used\n",
      "Sharukh User Name is Already Used\n",
      "Sami User Name is Already Used\n",
      "Shahid User Name is Already Used\n",
      "Jhon User Name is Already Used\n"
     ]
    }
   ],
   "source": [
    "current_user = ['Sami','Jhon','Ashish','Imran','Salman']\n",
    "new_user = ['Amir','Sharukh','Sami','Shahid','Jhon']\n",
    "\n",
    "for name in new_user:\n",
    "    if name == current_user:\n",
    "        print(f'{name} User Name is Available...')\n",
    "    else:\n",
    "        print(f'{name} User Name is Already Used')"
   ]
  },
  {
   "cell_type": "markdown",
   "metadata": {},
   "source": [
    "# Question 12"
   ]
  },
  {
   "cell_type": "code",
   "execution_count": 17,
   "metadata": {},
   "outputs": [],
   "source": [
    "my_dictionary = {}\n",
    "\n",
    "my_dictionary['First Name'] = 'Sami'\n",
    "my_dictionary['Last Name'] = 'Shiraz'\n",
    "my_dictionary['Age'] =21\n",
    "my_dictionary['City'] = 'Karachi'"
   ]
  },
  {
   "cell_type": "code",
   "execution_count": 18,
   "metadata": {},
   "outputs": [
    {
     "data": {
      "text/plain": [
       "{'First Name': 'Sami', 'Last Name': 'Shiraz', 'Age': 21, 'City': 'Karachi'}"
      ]
     },
     "execution_count": 18,
     "metadata": {},
     "output_type": "execute_result"
    }
   ],
   "source": [
    "my_dictionary"
   ]
  },
  {
   "cell_type": "code",
   "execution_count": 19,
   "metadata": {},
   "outputs": [
    {
     "data": {
      "text/plain": [
       "'Sami'"
      ]
     },
     "execution_count": 19,
     "metadata": {},
     "output_type": "execute_result"
    }
   ],
   "source": [
    "my_dictionary['First Name']"
   ]
  },
  {
   "cell_type": "code",
   "execution_count": 20,
   "metadata": {},
   "outputs": [
    {
     "data": {
      "text/plain": [
       "'Karachi'"
      ]
     },
     "execution_count": 20,
     "metadata": {},
     "output_type": "execute_result"
    }
   ],
   "source": [
    "my_dictionary['City']"
   ]
  },
  {
   "cell_type": "markdown",
   "metadata": {},
   "source": [
    "# Question 13"
   ]
  },
  {
   "cell_type": "code",
   "execution_count": 38,
   "metadata": {},
   "outputs": [
    {
     "name": "stdout",
     "output_type": "stream",
     "text": [
      "{'First Name': 'Sami', 'Last Name': 'Shiraz', 'Age': 21, 'City': 'Karachi', 'Occupation': 'Student'}\n"
     ]
    }
   ],
   "source": [
    "for diction in my_dictionary:\n",
    "    print(my_dictionary)\n",
    "    break"
   ]
  },
  {
   "cell_type": "code",
   "execution_count": 39,
   "metadata": {},
   "outputs": [],
   "source": [
    "my_dictionary['Occupation'] = 'Student'"
   ]
  },
  {
   "cell_type": "markdown",
   "metadata": {},
   "source": [
    "# Question 14"
   ]
  },
  {
   "cell_type": "code",
   "execution_count": 40,
   "metadata": {},
   "outputs": [
    {
     "name": "stdout",
     "output_type": "stream",
     "text": [
      "nile pass through Egypt\n",
      "Amazon River pass through South America\n",
      "Yangtze pass through China\n"
     ]
    }
   ],
   "source": [
    "my_dictionary2 = {}\n",
    "my_dictionary2['river1'] = 'nile'\n",
    "my_dictionary2['river2'] = 'Amazon River'\n",
    "my_dictionary2['river3'] = 'Yangtze'\n",
    "my_dictionary2['country1'] = 'Egypt'\n",
    "my_dictionary2['country2'] = 'South America'\n",
    "my_dictionary2['country3'] = 'China'\n",
    "\n",
    "for river in my_dictionary2:\n",
    "    print(my_dictionary2['river1']+' pass through '+ my_dictionary2['country1'])\n",
    "    print(my_dictionary2['river2']+' pass through '+ my_dictionary2['country2'])\n",
    "    print(my_dictionary2['river3']+' pass through '+ my_dictionary2['country3'])\n",
    "    break"
   ]
  },
  {
   "cell_type": "markdown",
   "metadata": {},
   "source": [
    "# Question 15"
   ]
  },
  {
   "cell_type": "code",
   "execution_count": 3,
   "metadata": {},
   "outputs": [
    {
     "name": "stdout",
     "output_type": "stream",
     "text": [
      "{'kind': 'Excelent', 'Owner': 'Shabir'}\n",
      "{'kind': 'Good', 'Owner': 'Khan'}\n",
      "{'kind': 'Good', 'Owner': 'Sami'}\n"
     ]
    }
   ],
   "source": [
    "rabit = {}\n",
    "cat = {}\n",
    "dog = {}\n",
    "pets=[]\n",
    "\n",
    "rabit['kind'] = 'Excelent'\n",
    "rabit['Owner'] = 'Shabir'\n",
    "\n",
    "cat['kind'] = 'Good'\n",
    "cat['Owner'] = 'Khan'\n",
    "\n",
    "dog['kind'] = 'Good'\n",
    "dog['Owner'] = 'Sami'\n",
    "\n",
    "pets.append(rabit)\n",
    "pets.append(cat)\n",
    "pets.append(dog)\n",
    "for info in pets:\n",
    "    print(info)"
   ]
  },
  {
   "cell_type": "code",
   "execution_count": null,
   "metadata": {},
   "outputs": [],
   "source": []
  },
  {
   "cell_type": "code",
   "execution_count": null,
   "metadata": {},
   "outputs": [],
   "source": []
  }
 ],
 "metadata": {
  "kernelspec": {
   "display_name": "Python 3",
   "language": "python",
   "name": "python3"
  },
  "language_info": {
   "codemirror_mode": {
    "name": "ipython",
    "version": 3
   },
   "file_extension": ".py",
   "mimetype": "text/x-python",
   "name": "python",
   "nbconvert_exporter": "python",
   "pygments_lexer": "ipython3",
   "version": "3.7.3"
  }
 },
 "nbformat": 4,
 "nbformat_minor": 2
}
