{
 "cells": [
  {
   "cell_type": "code",
   "execution_count": 2,
   "metadata": {},
   "outputs": [
    {
     "name": "stdout",
     "output_type": "stream",
     "text": [
      "Sami khan\n"
     ]
    }
   ],
   "source": [
    "def greet_user():\n",
    "    print('Sami khan')\n",
    "    \n",
    "    \n",
    "greet_user()"
   ]
  },
  {
   "cell_type": "code",
   "execution_count": 3,
   "metadata": {},
   "outputs": [
    {
     "name": "stdout",
     "output_type": "stream",
     "text": [
      "Sami khan\n"
     ]
    }
   ],
   "source": [
    "greet_user()"
   ]
  },
  {
   "cell_type": "code",
   "execution_count": 5,
   "metadata": {},
   "outputs": [],
   "source": [
    "def mult(a,b):\n",
    "    c = a*b\n",
    "    print(c)\n",
    "   "
   ]
  },
  {
   "cell_type": "code",
   "execution_count": 6,
   "metadata": {},
   "outputs": [
    {
     "name": "stdout",
     "output_type": "stream",
     "text": [
      "16\n"
     ]
    }
   ],
   "source": [
    "mult(2,8)"
   ]
  },
  {
   "cell_type": "code",
   "execution_count": 7,
   "metadata": {},
   "outputs": [],
   "source": [
    "def add(a,b):\n",
    "    d = a+b\n",
    "    print(d)"
   ]
  },
  {
   "cell_type": "code",
   "execution_count": 8,
   "metadata": {},
   "outputs": [
    {
     "name": "stdout",
     "output_type": "stream",
     "text": [
      "8\n"
     ]
    }
   ],
   "source": [
    "add(2,6)"
   ]
  },
  {
   "cell_type": "code",
   "execution_count": 9,
   "metadata": {},
   "outputs": [],
   "source": [
    "def subt(a,b):\n",
    "    e = a-b\n",
    "    print(e)"
   ]
  },
  {
   "cell_type": "code",
   "execution_count": 10,
   "metadata": {},
   "outputs": [],
   "source": [
    "def divide(a,b):\n",
    "    f = a/b\n",
    "    print(f)"
   ]
  },
  {
   "cell_type": "code",
   "execution_count": 16,
   "metadata": {},
   "outputs": [
    {
     "name": "stdout",
     "output_type": "stream",
     "text": [
      "217\n"
     ]
    }
   ],
   "source": [
    "add(108,109)"
   ]
  },
  {
   "cell_type": "code",
   "execution_count": 17,
   "metadata": {},
   "outputs": [
    {
     "name": "stdout",
     "output_type": "stream",
     "text": [
      "20\n"
     ]
    }
   ],
   "source": [
    "mult(4,5)"
   ]
  },
  {
   "cell_type": "code",
   "execution_count": 19,
   "metadata": {},
   "outputs": [
    {
     "name": "stdout",
     "output_type": "stream",
     "text": [
      "0.5\n"
     ]
    }
   ],
   "source": [
    "divide(2,4)"
   ]
  },
  {
   "cell_type": "code",
   "execution_count": 22,
   "metadata": {},
   "outputs": [
    {
     "name": "stdout",
     "output_type": "stream",
     "text": [
      "2\n"
     ]
    }
   ],
   "source": [
    "subt(9,7)"
   ]
  },
  {
   "cell_type": "code",
   "execution_count": 31,
   "metadata": {},
   "outputs": [
    {
     "name": "stdout",
     "output_type": "stream",
     "text": [
      "Enter First Name: Sami\n",
      "Enter Middle Name: Shiraz\n",
      "Enter Last Name: Dhanji\n",
      "\n",
      "\n",
      "Full Name = Sami Shiraz Dhanji\n"
     ]
    }
   ],
   "source": [
    "def full_name():\n",
    "    firstName = input('Enter First Name: ')\n",
    "    middleName = input('Enter Middle Name: ')\n",
    "    lastName = input('Enter Last Name: ')\n",
    "    print(f'\\n\\nFull Name = {firstName} {middleName} {lastName}')\n",
    "    \n",
    "full_name()"
   ]
  },
  {
   "cell_type": "code",
   "execution_count": 35,
   "metadata": {},
   "outputs": [
    {
     "name": "stdout",
     "output_type": "stream",
     "text": [
      "10\n",
      "2\n",
      "36\n",
      "8.0\n"
     ]
    }
   ],
   "source": [
    "def calculator(a,b,op):\n",
    "    if op == '+':\n",
    "        add(a,b)\n",
    "    elif op == '-':\n",
    "        subt(a,b)\n",
    "    elif op == '*':\n",
    "        mult(a,b)\n",
    "    else:\n",
    "        divide(a,b)\n",
    "        \n",
    "calculator(3,7,'+')\n",
    "calculator(7,5,'-')\n",
    "calculator(6,6,'*')\n",
    "calculator(16,2,'/')"
   ]
  },
  {
   "cell_type": "code",
   "execution_count": 36,
   "metadata": {},
   "outputs": [
    {
     "name": "stdout",
     "output_type": "stream",
     "text": [
      "12\n"
     ]
    }
   ],
   "source": [
    "calculator(a=3,b=9,op='+')"
   ]
  },
  {
   "cell_type": "markdown",
   "metadata": {},
   "source": [
    "# Default Parameter"
   ]
  },
  {
   "cell_type": "code",
   "execution_count": 38,
   "metadata": {},
   "outputs": [
    {
     "name": "stdout",
     "output_type": "stream",
     "text": [
      "Name = Sami\n",
      "Age = 20\n",
      "Gender = male\n"
     ]
    }
   ],
   "source": [
    "def my_info(name, age=21, gender='male'):\n",
    "    print(f'Name = {name}')\n",
    "    print(f'Age = {age}')\n",
    "    print(f'Gender = {gender}')\n",
    "    \n",
    "my_info('Sami',20)"
   ]
  },
  {
   "cell_type": "code",
   "execution_count": 41,
   "metadata": {},
   "outputs": [
    {
     "name": "stdout",
     "output_type": "stream",
     "text": [
      "Sami WazirAli Shiraz\n"
     ]
    }
   ],
   "source": [
    "def my_name_is(f_name, l_name, m_name = \" \"):\n",
    "    if m_name:\n",
    "        full_name = f_name + \" \" + m_name +\" \"+ l_name\n",
    "    else:\n",
    "        full_name = f_name + \" \" + l_name\n",
    "    return full_name\n",
    "\n",
    "a = my_name_is('Sami','Shiraz','WazirAli')\n",
    "print(a)"
   ]
  },
  {
   "cell_type": "code",
   "execution_count": 49,
   "metadata": {},
   "outputs": [
    {
     "name": "stdout",
     "output_type": "stream",
     "text": [
      "Hello Sami\n",
      "Hello Karim\n",
      "Hello Umair\n",
      "Hello Matula\n"
     ]
    }
   ],
   "source": [
    "def calling(names):\n",
    "    for name in names:\n",
    "        print(f'Hello {name}')\n",
    "\n",
    "list = ['Sami','Karim','Umair','Matula']\n",
    "\n",
    "calling(list)"
   ]
  },
  {
   "cell_type": "code",
   "execution_count": null,
   "metadata": {},
   "outputs": [],
   "source": []
  }
 ],
 "metadata": {
  "kernelspec": {
   "display_name": "Python 3",
   "language": "python",
   "name": "python3"
  },
  "language_info": {
   "codemirror_mode": {
    "name": "ipython",
    "version": 3
   },
   "file_extension": ".py",
   "mimetype": "text/x-python",
   "name": "python",
   "nbconvert_exporter": "python",
   "pygments_lexer": "ipython3",
   "version": "3.7.3"
  }
 },
 "nbformat": 4,
 "nbformat_minor": 2
}
